{
 "cells": [
  {
   "cell_type": "code",
   "execution_count": 1,
   "metadata": {},
   "outputs": [
    {
     "name": "stdout",
     "output_type": "stream",
     "text": [
      "Creatures data saved successfully!\n"
     ]
    }
   ],
   "source": [
    "import requests\n",
    "import json\n",
    "\n",
    "# API URL for creatures\n",
    "url = \"https://lovecraftapirest.fly.dev/api/creatures\"\n",
    "\n",
    "# Make a GET request to the API\n",
    "response = requests.get(url)\n",
    "\n",
    "# Check if the request was successful\n",
    "if response.status_code == 200:\n",
    "    creatures_data = response.json()  # Parse the JSON data\n",
    "    \n",
    "    # Save the data to a JSON file\n",
    "    with open('data/creatures.json', 'w', encoding='utf-8') as jsonfile:\n",
    "        json.dump(creatures_data, jsonfile, ensure_ascii=False, indent=4)\n",
    "    \n",
    "    print(\"Creatures data saved successfully!\")\n",
    "else:\n",
    "    print(f\"Failed to retrieve data: {response.status_code}\")\n"
   ]
  },
  {
   "cell_type": "code",
   "execution_count": 2,
   "metadata": {},
   "outputs": [
    {
     "name": "stdout",
     "output_type": "stream",
     "text": [
      "Races data saved successfully!\n"
     ]
    }
   ],
   "source": [
    "import requests\n",
    "import json\n",
    "\n",
    "# API URL for races\n",
    "races_url = \"https://lovecraftapirest.fly.dev/api/races\"\n",
    "\n",
    "# Make a GET request to the API\n",
    "response = requests.get(races_url)\n",
    "\n",
    "# Check if the request was successful\n",
    "if response.status_code == 200:\n",
    "    races_data = response.json()  # Parse the JSON data\n",
    "    \n",
    "    # Save the data to a JSON file\n",
    "    with open('data/races.json', 'w', encoding='utf-8') as jsonfile:\n",
    "        json.dump(races_data, jsonfile, ensure_ascii=False, indent=4)\n",
    "    \n",
    "    print(\"Races data saved successfully!\")\n",
    "else:\n",
    "    print(f\"Failed to retrieve races data: {response.status_code}\")\n"
   ]
  },
  {
   "cell_type": "code",
   "execution_count": 3,
   "metadata": {},
   "outputs": [
    {
     "name": "stdout",
     "output_type": "stream",
     "text": [
      "Outer-gods data saved successfully!\n",
      "Great-old-ones data saved successfully!\n",
      "Lesser-old-ones data saved successfully!\n"
     ]
    }
   ],
   "source": [
    "# Function to save category data\n",
    "def save_category_data(category_name):\n",
    "    category_url = f\"https://lovecraftapirest.fly.dev/api/categories/{category_name}\"\n",
    "    \n",
    "    response = requests.get(category_url)\n",
    "    \n",
    "    if response.status_code == 200:\n",
    "        category_data = response.json()\n",
    "        with open(f'data/{category_name}.json', 'w', encoding='utf-8') as jsonfile:\n",
    "            json.dump(category_data, jsonfile, ensure_ascii=False, indent=4)\n",
    "        \n",
    "        print(f\"{category_name.capitalize()} data saved successfully!\")\n",
    "    else:\n",
    "        print(f\"Failed to retrieve {category_name} data: {response.status_code}\")\n",
    "\n",
    "# Saving data for each category\n",
    "categories = ['outer-gods', 'great-old-ones', 'lesser-old-ones']\n",
    "for category in categories:\n",
    "    save_category_data(category)\n"
   ]
  }
 ],
 "metadata": {
  "kernelspec": {
   "display_name": "Python 3",
   "language": "python",
   "name": "python3"
  },
  "language_info": {
   "codemirror_mode": {
    "name": "ipython",
    "version": 3
   },
   "file_extension": ".py",
   "mimetype": "text/x-python",
   "name": "python",
   "nbconvert_exporter": "python",
   "pygments_lexer": "ipython3",
   "version": "3.12.6"
  }
 },
 "nbformat": 4,
 "nbformat_minor": 2
}
