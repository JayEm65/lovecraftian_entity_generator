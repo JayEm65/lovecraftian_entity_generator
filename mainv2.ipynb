{
 "cells": [
  {
   "cell_type": "code",
   "execution_count": 1,
   "metadata": {},
   "outputs": [],
   "source": [
    "import json\n",
    "import pandas as pd\n",
    "\n",
    "# Load JSON files\n",
    "with open('data/creatures.json') as f:\n",
    "    creatures = json.load(f)\n",
    "\n",
    "with open('data/great_old_ones.json') as f:\n",
    "    great_old_ones = json.load(f)\n",
    "\n",
    "with open('data/lesser_old_ones.json') as f:\n",
    "    lesser_old_ones = json.load(f)\n",
    "\n",
    "with open('data/outer_gods.json') as f:\n",
    "    outer_gods = json.load(f)\n",
    "\n",
    "with open('data/races.json') as f:\n",
    "    races = json.load(f)\n",
    "\n",
    "# Load CSV file\n",
    "lovecraft_data = pd.read_csv('data/lovecraft_fiction.csv')\n"
   ]
  },
  {
   "cell_type": "code",
   "execution_count": 2,
   "metadata": {},
   "outputs": [],
   "source": [
    "# Extract names from creatures and races\n",
    "creature_names = [creature['name'] for creature in creatures]\n",
    "great_old_one_names = [old_one['name'] for old_one in great_old_ones]\n",
    "lesser_old_one_names = [old_one['name'] for old_one in lesser_old_ones]\n",
    "outer_god_names = [outer_god['name'] for outer_god in outer_gods]\n",
    "race_names = [race['race'] for race in races]\n",
    "\n",
    "# Combine all names into a single list\n",
    "all_names = creature_names + great_old_one_names + lesser_old_one_names + outer_god_names + race_names\n"
   ]
  },
  {
   "cell_type": "code",
   "execution_count": 3,
   "metadata": {},
   "outputs": [],
   "source": [
    "def filter_texts(data_frame, names):\n",
    "    filtered_texts = []\n",
    "    for text in data_frame['Text']:  # Change 'text' to 'Text' as per your data\n",
    "        if any(name.lower() in text.lower() for name in names):\n",
    "            filtered_texts.append(text)\n",
    "    return filtered_texts\n",
    "\n",
    "# Apply the filtering\n",
    "filtered_texts = filter_texts(lovecraft_data, all_names)\n"
   ]
  },
  {
   "cell_type": "code",
   "execution_count": null,
   "metadata": {},
   "outputs": [],
   "source": [
    "print(filtered_texts[:5])  # Display the first 5 filtered texts\n"
   ]
  },
  {
   "cell_type": "code",
   "execution_count": null,
   "metadata": {},
   "outputs": [],
   "source": [
    "from collections import Counter\n",
    "\n",
    "# Count occurrences of names in the filtered texts\n",
    "name_counts = Counter()\n",
    "for text in filtered_texts:\n",
    "    for name in all_names:\n",
    "        name_counts[name] += text.lower().count(name.lower())\n",
    "\n",
    "# Convert to DataFrame for better visualization\n",
    "name_counts_df = pd.DataFrame(name_counts.items(), columns=['Name', 'Count'])\n",
    "print(name_counts_df)\n",
    "\n"
   ]
  },
  {
   "cell_type": "code",
   "execution_count": null,
   "metadata": {},
   "outputs": [],
   "source": [
    "import matplotlib.pyplot as plt\n",
    "\n",
    "# Set a limit for how many names to display for better visualization\n",
    "top_n = 20  # Change this number to see more or fewer names\n",
    "top_names = name_counts_df.nlargest(top_n, 'Count')\n",
    "\n",
    "# Create a bar plot\n",
    "plt.figure(figsize=(12, 6))\n",
    "plt.bar(top_names['Name'], top_names['Count'], color='skyblue')\n",
    "plt.xticks(rotation=45, ha='right')\n",
    "plt.title('Top Names in Lovecraft’s Works')\n",
    "plt.xlabel('Name')\n",
    "plt.ylabel('Count')\n",
    "plt.tight_layout()\n",
    "plt.show()\n"
   ]
  },
  {
   "cell_type": "code",
   "execution_count": 7,
   "metadata": {},
   "outputs": [],
   "source": [
    "# Save the name counts to a new CSV file\n",
    "name_counts_df.to_csv('data/lovecraft_name_counts.csv', index=False)\n"
   ]
  },
  {
   "cell_type": "code",
   "execution_count": 8,
   "metadata": {},
   "outputs": [],
   "source": [
    "import pandas as pd\n",
    "import json\n",
    "import re\n",
    "\n",
    "# Load the CSV file\n",
    "lovecraft_df = pd.read_csv('data/lovecraft_fiction.csv')\n",
    "\n",
    "# Example function to clean and preprocess text\n",
    "def clean_text(text):\n",
    "    text = text.lower()  # Lowercase\n",
    "    text = re.sub(r'[^a-z\\s]', '', text)  # Remove special characters\n",
    "    return text\n",
    "\n",
    "# Apply cleaning to the 'Text' column\n",
    "lovecraft_df['Cleaned_Text'] = lovecraft_df['Text'].apply(clean_text)\n"
   ]
  },
  {
   "cell_type": "code",
   "execution_count": 9,
   "metadata": {},
   "outputs": [],
   "source": [
    "# Load the name counts CSV\n",
    "name_counts_df = pd.read_csv('data/lovecraft_name_counts.csv')\n",
    "\n",
    "# Clean the names\n",
    "name_counts_df['Cleaned_Name'] = name_counts_df['Name'].str.lower().str.strip()\n"
   ]
  },
  {
   "cell_type": "code",
   "execution_count": 10,
   "metadata": {},
   "outputs": [],
   "source": [
    "# Count occurrences in the cleaned text\n",
    "name_occurrences = lovecraft_df['Cleaned_Text'].str.cat(sep=' ').split()\n",
    "name_count_dict = {name: name_occurrences.count(name) for name in name_counts_df['Cleaned_Name']}\n",
    "\n",
    "# Update the counts in the DataFrame\n",
    "name_counts_df['Updated_Count'] = name_counts_df['Cleaned_Name'].map(name_count_dict).fillna(0).astype(int)\n",
    "\n",
    "# Save the updated counts to a new CSV\n",
    "name_counts_df.to_csv('data/updated_lovecraft_name_counts.csv', index=False)\n"
   ]
  },
  {
   "cell_type": "code",
   "execution_count": null,
   "metadata": {},
   "outputs": [],
   "source": [
    "import pandas as pd\n",
    "import matplotlib.pyplot as plt\n",
    "\n",
    "# Load the updated counts CSV\n",
    "updated_name_counts_df = pd.read_csv('data/updated_lovecraft_name_counts.csv')\n",
    "\n",
    "# Select top 10 entities by count\n",
    "top_entities = updated_name_counts_df.nlargest(10, 'Updated_Count')\n",
    "\n",
    "# Plotting\n",
    "plt.figure(figsize=(12, 6))\n",
    "plt.bar(top_entities['Cleaned_Name'], top_entities['Updated_Count'], color='purple')\n",
    "plt.title('Top 10 Lovecraftian Entities by Count')\n",
    "plt.xlabel('Entity Names')\n",
    "plt.ylabel('Count')\n",
    "plt.xticks(rotation=45)\n",
    "plt.grid(axis='y')\n",
    "\n",
    "# Show the plot\n",
    "plt.tight_layout()\n",
    "plt.show()\n"
   ]
  },
  {
   "cell_type": "code",
   "execution_count": null,
   "metadata": {},
   "outputs": [],
   "source": [
    "import pandas as pd\n",
    "import matplotlib.pyplot as plt\n",
    "\n",
    "# Load the updated counts CSV\n",
    "updated_name_counts_df = pd.read_csv('data/updated_lovecraft_name_counts.csv')\n",
    "\n",
    "# Filter out specific entities\n",
    "entities_to_exclude = ['darkness', 'ghoul', 'ghouls']\n",
    "filtered_df = updated_name_counts_df[~updated_name_counts_df['Cleaned_Name'].str.lower().isin(entities_to_exclude)]\n",
    "\n",
    "# Select top 10 entities by count\n",
    "top_entities = filtered_df.nlargest(10, 'Updated_Count')\n",
    "\n",
    "# Plotting\n",
    "plt.figure(figsize=(12, 6))\n",
    "plt.bar(top_entities['Cleaned_Name'], top_entities['Updated_Count'], color='purple')\n",
    "plt.title('Top 10 Lovecraftian Entities by Count (Excluding Specific Entities)')\n",
    "plt.xlabel('Entity Names')\n",
    "plt.ylabel('Count')\n",
    "plt.xticks(rotation=45)\n",
    "plt.grid(axis='y')\n",
    "\n",
    "# Show the plot\n",
    "plt.tight_layout()\n",
    "plt.show()\n"
   ]
  },
  {
   "cell_type": "code",
   "execution_count": null,
   "metadata": {},
   "outputs": [],
   "source": [
    "import nltk\n",
    "\n",
    "nltk.download('punkt', download_dir='C:\\\\Users\\\\Marc Jay\\\\nltk_data')  # Adjust the path as needed\n"
   ]
  },
  {
   "cell_type": "code",
   "execution_count": null,
   "metadata": {},
   "outputs": [],
   "source": [
    "import nltk\n",
    "\n",
    "nltk.download('punkt', download_dir='C:\\\\Users\\\\Marc Jay\\\\nltk_data')  # Adjust path as needed\n",
    "nltk.download('punkt_tab', download_dir='C:\\\\Users\\\\Marc Jay\\\\nltk_data')\n"
   ]
  },
  {
   "cell_type": "code",
   "execution_count": null,
   "metadata": {},
   "outputs": [],
   "source": [
    "import pandas as pd\n",
    "import re\n",
    "import nltk\n",
    "from nltk.tokenize import word_tokenize\n",
    "\n",
    "# Ensure that 'punkt' is downloaded\n",
    "nltk.download('punkt')\n",
    "\n",
    "# Load the data from the CSV file\n",
    "df = pd.read_csv('data/lovecraft_fiction.csv')\n",
    "\n",
    "# Initialize a list to store the entities\n",
    "entities = []\n",
    "\n",
    "# Extract names and descriptions from the DataFrame\n",
    "for index, row in df.iterrows():\n",
    "    entity = {\n",
    "        'name': row['Title'],\n",
    "        'description': row['Text'],\n",
    "    }\n",
    "    entities.append(entity)\n",
    "\n",
    "# Preprocessing the extracted data\n",
    "for entity in entities:\n",
    "    entity['name'] = entity['name'].lower()\n",
    "    entity['description'] = entity['description'].lower()\n",
    "    entity['description'] = re.sub(r'[^a-zA-Z0-9\\s]', '', entity['description'])\n",
    "    entity['tokens'] = word_tokenize(entity['description'])\n",
    "\n",
    "# Convert it back to a DataFrame for further analysis\n",
    "processed_df = pd.DataFrame(entities)\n",
    "\n",
    "# Save the processed data to a new CSV file\n",
    "processed_df.to_csv('data/lovecraft_processed_entities.csv', index=False)\n",
    "\n",
    "# Print the processed DataFrame\n",
    "print(processed_df.head())\n"
   ]
  },
  {
   "cell_type": "code",
   "execution_count": null,
   "metadata": {},
   "outputs": [],
   "source": [
    "import pandas as pd\n",
    "import json\n",
    "\n",
    "# Load creatures data\n",
    "with open('data/creatures.json') as f:\n",
    "    creatures_data = json.load(f)\n",
    "\n",
    "# Load races data\n",
    "with open('data/races.json') as f:\n",
    "    races_data = json.load(f)\n",
    "\n",
    "# Create DataFrame for creatures\n",
    "creatures_df = pd.DataFrame(creatures_data)\n",
    "\n",
    "# Create DataFrame for races\n",
    "races_df = pd.DataFrame(races_data)\n",
    "\n",
    "# Display DataFrames\n",
    "print(creatures_df.head())\n",
    "print(races_df.head())\n"
   ]
  },
  {
   "cell_type": "code",
   "execution_count": null,
   "metadata": {},
   "outputs": [],
   "source": [
    "import pandas as pd\n",
    "from collections import Counter\n",
    "\n",
    "# Load the CSV file\n",
    "df = pd.read_csv('data/lovecraft_processed_entities.csv')\n",
    "\n",
    "# Assuming the tokens are in a column named 'tokens'\n",
    "# If the tokens are in a different column, adjust accordingly\n",
    "tokens = df['tokens'].explode().tolist()\n",
    "\n",
    "# Count the frequency of each token\n",
    "token_counts = Counter(tokens)\n",
    "\n",
    "# Display the most common tokens\n",
    "most_common_tokens = token_counts.most_common(10)  # Adjust the number as needed\n",
    "print(most_common_tokens)\n"
   ]
  },
  {
   "cell_type": "code",
   "execution_count": 18,
   "metadata": {},
   "outputs": [],
   "source": [
    "import pandas as pd\n",
    "\n",
    "# Convert the token counts dictionary to a DataFrame\n",
    "token_counts_df = pd.DataFrame(token_counts.items(), columns=['Token', 'Frequency'])\n",
    "\n",
    "# Save to CSV\n",
    "token_counts_df.to_csv('lovecraft_token_frequencies.csv', index=False)\n"
   ]
  },
  {
   "cell_type": "code",
   "execution_count": null,
   "metadata": {},
   "outputs": [],
   "source": [
    "import pandas as pd\n",
    "\n",
    "# Load the CSV file\n",
    "token_counts_df = pd.read_csv('lovecraft_token_frequencies.csv')\n",
    "\n",
    "# Display the DataFrame\n",
    "print(token_counts_df.head())\n"
   ]
  },
  {
   "cell_type": "code",
   "execution_count": null,
   "metadata": {},
   "outputs": [],
   "source": [
    "# Sort by frequency\n",
    "sorted_tokens = token_counts_df.sort_values(by='Frequency', ascending=False)\n",
    "\n",
    "# Display the top 20 tokens\n",
    "print(sorted_tokens.head(20))\n"
   ]
  },
  {
   "cell_type": "code",
   "execution_count": null,
   "metadata": {},
   "outputs": [],
   "source": []
  }
 ],
 "metadata": {
  "kernelspec": {
   "display_name": "Python 3",
   "language": "python",
   "name": "python3"
  },
  "language_info": {
   "codemirror_mode": {
    "name": "ipython",
    "version": 3
   },
   "file_extension": ".py",
   "mimetype": "text/x-python",
   "name": "python",
   "nbconvert_exporter": "python",
   "pygments_lexer": "ipython3",
   "version": "3.12.6"
  }
 },
 "nbformat": 4,
 "nbformat_minor": 2
}
