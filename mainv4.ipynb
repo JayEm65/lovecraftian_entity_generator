{
 "cells": [
  {
   "cell_type": "code",
   "execution_count": null,
   "metadata": {},
   "outputs": [],
   "source": [
    "import numpy as np\n",
    "import tensorflow as tf\n",
    "from tensorflow import keras\n",
    "from tensorflow.keras.models import Sequential\n",
    "from tensorflow.keras.layers import Embedding, LSTM, Dense, Dropout\n",
    "from tensorflow.keras.optimizers import Adam\n",
    "from tensorflow.keras.losses import SparseCategoricalCrossentropy\n",
    "\n",
    "# Load data\n",
    "# Make sure 'text' and 'char_to_idx' are pre-defined from the previous steps\n",
    "\n",
    "# Define constants\n",
    "vocab_size = len(char_to_idx)  # The total number of unique characters in your dataset\n",
    "embedding_dim = 256\n",
    "sequence_length = 100  # Set the sequence length you want to use for input\n",
    "hidden_units = 512  # Number of units in LSTM\n",
    "\n",
    "# Prepare sequences (X) and targets (y)\n",
    "X = []\n",
    "y = []\n",
    "\n",
    "for i in range(0, len(text) - sequence_length, sequence_length):\n",
    "    seq_in = text[i:i + sequence_length]\n",
    "    seq_out = text[i + sequence_length]\n",
    "    X.append([char_to_idx[char] for char in seq_in])\n",
    "    y.append(char_to_idx[seq_out])\n",
    "\n",
    "X = np.array(X)\n",
    "y = np.array(y)\n",
    "\n",
    "# Ensure X and y have the correct shape and dtype\n",
    "X = X.astype('float32')\n",
    "y = y.astype('float32')\n",
    "\n",
    "# Define the model\n",
    "model = Sequential([\n",
    "    Embedding(input_dim=vocab_size, output_dim=embedding_dim, input_length=sequence_length),\n",
    "    LSTM(hidden_units, return_sequences=True),\n",
    "    Dropout(0.2),\n",
    "    LSTM(hidden_units),\n",
    "    Dropout(0.2),\n",
    "    Dense(vocab_size, activation='softmax')  # Output layer with softmax for multi-class classification\n",
    "])\n",
    "\n",
    "# Compile the model\n",
    "model.compile(loss=SparseCategoricalCrossentropy(from_logits=False), optimizer=Adam(learning_rate=0.001), metrics=['accuracy'])\n",
    "\n",
    "# Print model summary\n",
    "model.summary()\n",
    "\n",
    "# Train the model\n",
    "history = model.fit(X, y, batch_size=64, epochs=20, validation_split=0.2, verbose=1)\n",
    "\n",
    "# Save the trained model\n",
    "model.save('lovecraft_lstm_model.h5')\n"
   ]
  }
 ],
 "metadata": {
  "kernelspec": {
   "display_name": "Python 3",
   "language": "python",
   "name": "python3"
  },
  "language_info": {
   "codemirror_mode": {
    "name": "ipython",
    "version": 3
   },
   "file_extension": ".py",
   "mimetype": "text/x-python",
   "name": "python",
   "nbconvert_exporter": "python",
   "pygments_lexer": "ipython3",
   "version": "3.12.6"
  }
 },
 "nbformat": 4,
 "nbformat_minor": 2
}
