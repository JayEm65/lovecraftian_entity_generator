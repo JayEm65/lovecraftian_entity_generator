{
 "cells": [
  {
   "cell_type": "code",
   "execution_count": null,
   "metadata": {},
   "outputs": [],
   "source": [
    "import numpy as np\n",
    "import pandas as pd\n",
    "from tensorflow.keras.models import Sequential\n",
    "from tensorflow.keras.layers import Embedding, LSTM, Dense, Dropout\n",
    "from tensorflow.keras.optimizers import Adam\n",
    "from tensorflow.keras.preprocessing.text import tokenizer_from_json\n",
    "from tensorflow.keras.utils import to_categorical\n",
    "import json\n",
    "\n",
    "# Load padded sequences and tokenizer\n",
    "padded_sequences = pd.read_csv('data/padded_sequences.csv').values\n",
    "tokenizer_json = json.load(open('data/tokenizer.json'))\n",
    "tokenizer = tokenizer_from_json(tokenizer_json)\n",
    "\n",
    "# Prepare input (X) and output (y)\n",
    "X = padded_sequences[:, :-1]  # All but the last token\n",
    "y = padded_sequences[:, 1:]   # All but the first token\n",
    "\n",
    "# Convert output to categorical\n",
    "y = to_categorical(y, num_classes=len(tokenizer.word_index) + 1)\n",
    "\n",
    "# Define LSTM model\n",
    "model = Sequential()\n",
    "model.add(Embedding(input_dim=len(tokenizer.word_index) + 1, output_dim=128, input_length=X.shape[1]))\n",
    "model.add(LSTM(128, return_sequences=True))\n",
    "model.add(Dropout(0.2))\n",
    "model.add(LSTM(128))\n",
    "model.add(Dropout(0.2))\n",
    "model.add(Dense(y.shape[1], activation='softmax'))\n",
    "\n",
    "# Compile the model\n",
    "model.compile(loss='categorical_crossentropy', optimizer=Adam(learning_rate=0.001), metrics=['accuracy'])\n",
    "\n",
    "# Train the model\n",
    "model.fit(X, y, batch_size=64, epochs=20, validation_split=0.2)\n",
    "\n",
    "# Save the model\n",
    "model.save('lovecraft_lstm_model.h5')\n",
    "\n",
    "print(\"Model training completed!\")\n"
   ]
  }
 ],
 "metadata": {
  "language_info": {
   "name": "python"
  }
 },
 "nbformat": 4,
 "nbformat_minor": 2
}
